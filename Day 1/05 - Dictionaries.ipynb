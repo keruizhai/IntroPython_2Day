{
 "cells": [
  {
   "cell_type": "markdown",
   "metadata": {},
   "source": [
    "# New Data Type: Dictionaries\n",
    "\n",
    "### Learning Objectives\n",
    "\n",
    "- Understand the underlying structure of a dictionary\n",
    "- Know how to access dictionary elements\n",
    "- Adding and deleting dictionary elements\n",
    "    - Describe the difference between del & pop()\n",
    "- Be able to describe when a situation is best suited for a dictionary vs. a list\n",
    "- Checking the existence of a key\n",
    "- Iterating over a dictionary"
   ]
  },
  {
   "cell_type": "markdown",
   "metadata": {},
   "source": [
    "## Dictionaries\n",
    "\n",
    "Dictionaries are another kind of data type used by Python.\n",
    "\n",
    "A dictionary is an associative array (also known as hashes, for those who have programmed before). \n",
    "\n",
    "rather than using an index, like a list, a dictionary uses \"keys\", typically strings or numbers, that you define. Each \"key\" of this dictionary is mapped to a value. \n",
    "\n",
    "Like a list, a dictionary can contain any kind of data type for it's values. \n",
    "\n",
    "Dictionaries consist of key-value-pairs, and as they can only be accessed using the 'key' names, they are unordered. \n",
    "\n",
    "You can make a dictionary by using `dict()`, or `{}`"
   ]
  },
  {
   "cell_type": "code",
   "execution_count": null,
   "metadata": {},
   "outputs": [],
   "source": [
    "# An empty dictionary\n",
    "dict()\n",
    "{}"
   ]
  },
  {
   "cell_type": "markdown",
   "metadata": {},
   "source": [
    "While the above makes an empty dictionary, sometimes you want to create one that already has values inside of it - like defining a list as [1,2,3,4].\n",
    "\n",
    "We do this by using the {} brackets, and defining the names of a \"key\", and it's \"value\" at the same time, like so:"
   ]
  },
  {
   "cell_type": "code",
   "execution_count": null,
   "metadata": {},
   "outputs": [],
   "source": [
    "# An example of a dictionary with keys and values\n",
    "\n",
    "released = {    \n",
    "    \"iphone\" : 2005,\n",
    "    \"iPhone Pod\": 3010,\n",
    "    \"iphone3G\" : str(2004),    \n",
    "    \"iphone3GS\": str(2009),\n",
    "    \"iPhone Smart\": 2001,\n",
    "    \"iphone4\" : 2010,\n",
    "    \"iphone4S\": '2010',\n",
    "    'iPhone 4SS' : 2015\n",
    "}\n",
    "\n",
    "print(released)"
   ]
  },
  {
   "cell_type": "markdown",
   "metadata": {},
   "source": [
    "The great thing about dictionaries is that, like lists, the data stored inside of them can be any kind of data type.\n",
    "\n",
    "You can even store a dictionary inside a dictionary!"
   ]
  },
  {
   "cell_type": "markdown",
   "metadata": {},
   "source": [
    "If you want actually access the value for a particular key in your dictionary, you can do so similar to how you do for a list - except instead of using a number to represent what 'index' your data is stored in, you use the key name instead"
   ]
  },
  {
   "cell_type": "code",
   "execution_count": null,
   "metadata": {},
   "outputs": [],
   "source": [
    "# Accessing your dictionary\n"
   ]
  },
  {
   "cell_type": "code",
   "execution_count": null,
   "metadata": {
    "collapsed": true
   },
   "outputs": [],
   "source": []
  },
  {
   "cell_type": "markdown",
   "metadata": {},
   "source": [
    "In addition, just like a list, dictionaries are mutable!"
   ]
  },
  {
   "cell_type": "code",
   "execution_count": null,
   "metadata": {},
   "outputs": [],
   "source": [
    "# Dictionaries are mutable (they can be changed)\n"
   ]
  },
  {
   "cell_type": "code",
   "execution_count": null,
   "metadata": {
    "collapsed": true
   },
   "outputs": [],
   "source": []
  },
  {
   "cell_type": "markdown",
   "metadata": {},
   "source": [
    "### Adding and deleting from your dictionary\n",
    "\n",
    "Adding to your dicitonary is simple - you just \"call\" your dictionary with a new key name, and assign it a value.\n"
   ]
  },
  {
   "cell_type": "code",
   "execution_count": null,
   "metadata": {},
   "outputs": [],
   "source": [
    "# Adding new elements\n",
    "released['temporary'] = \"Temporary record\"\n",
    "\n",
    "released"
   ]
  },
  {
   "cell_type": "code",
   "execution_count": null,
   "metadata": {
    "collapsed": true
   },
   "outputs": [],
   "source": []
  },
  {
   "cell_type": "markdown",
   "metadata": {},
   "source": [
    "Similarly to how we delete items from lists, we can delete records from our dictionary using `.pop()` and `del`"
   ]
  },
  {
   "cell_type": "code",
   "execution_count": null,
   "metadata": {},
   "outputs": [],
   "source": [
    "# Deleting elements\n",
    "# same as lists, \"pop\" gives you the deleted element\n",
    "released.pop(\"temporary\")\n"
   ]
  },
  {
   "cell_type": "code",
   "execution_count": null,
   "metadata": {},
   "outputs": [],
   "source": [
    "# While del removes the key and value from the dictionary. \n",
    "del released[\"iphone4S\"]\n"
   ]
  },
  {
   "cell_type": "code",
   "execution_count": null,
   "metadata": {
    "collapsed": true
   },
   "outputs": [],
   "source": []
  },
  {
   "cell_type": "markdown",
   "metadata": {},
   "source": [
    "#### Challenge\n",
    "\n",
    "Find the correct release dates for the iPhone models (google!), and change the dates currently inside the dictionary. In addition, add the newest iPhone model and release date, and delete any records that don't actually exist on the market (e.g. 'iPhone Smart')"
   ]
  },
  {
   "cell_type": "code",
   "execution_count": null,
   "metadata": {
    "scrolled": true
   },
   "outputs": [],
   "source": [
    "released"
   ]
  },
  {
   "cell_type": "code",
   "execution_count": null,
   "metadata": {
    "collapsed": true
   },
   "outputs": [],
   "source": []
  },
  {
   "cell_type": "code",
   "execution_count": null,
   "metadata": {
    "collapsed": true
   },
   "outputs": [],
   "source": []
  },
  {
   "cell_type": "code",
   "execution_count": null,
   "metadata": {
    "collapsed": true
   },
   "outputs": [],
   "source": []
  },
  {
   "cell_type": "markdown",
   "metadata": {},
   "source": [
    "### Checking if a Key Exists\n",
    "\n",
    "As with a list, sometimes you need to check whether or not something exists within your dictionary. This could be so that you don't accidentally over-write it, or more commonly, to avoid being thrown an error if you try to access a key that doesn't exist"
   ]
  },
  {
   "cell_type": "code",
   "execution_count": null,
   "metadata": {},
   "outputs": [],
   "source": [
    "#creating an empty dictionary\n",
    "temp_dict = {}\n",
    "\n",
    "# Trying to access a non-existent key\n",
    "temp_dict[\"temp\"]"
   ]
  },
  {
   "cell_type": "markdown",
   "metadata": {},
   "source": [
    "We can do this using the same kind of **'in'** and **'not in'** conditionals that we learned about previously"
   ]
  },
  {
   "cell_type": "code",
   "execution_count": null,
   "metadata": {
    "scrolled": true
   },
   "outputs": [],
   "source": [
    "'temp' not in temp_dict"
   ]
  },
  {
   "cell_type": "code",
   "execution_count": null,
   "metadata": {},
   "outputs": [],
   "source": [
    "'temp' in temp_dict"
   ]
  },
  {
   "cell_type": "code",
   "execution_count": null,
   "metadata": {
    "collapsed": true
   },
   "outputs": [],
   "source": []
  },
  {
   "cell_type": "markdown",
   "metadata": {},
   "source": [
    "What we're seeing above is that Python is checking whether 'temp' is a **key** within our dictionary. If we want to check whether something exists amonst the **values**, we need to use a function instead:"
   ]
  },
  {
   "cell_type": "code",
   "execution_count": null,
   "metadata": {
    "collapsed": true
   },
   "outputs": [],
   "source": [
    "temp_dict[\"temp\"] = \"temporary record\""
   ]
  },
  {
   "cell_type": "code",
   "execution_count": null,
   "metadata": {},
   "outputs": [],
   "source": [
    "temp_dict.values()\n"
   ]
  },
  {
   "cell_type": "markdown",
   "metadata": {},
   "source": [
    "What this does is give you a list that contains all of the values contained within your dictionary. As this is a list, you can thus use in/not in just as you would with a list!"
   ]
  },
  {
   "cell_type": "code",
   "execution_count": null,
   "metadata": {},
   "outputs": [],
   "source": []
  },
  {
   "cell_type": "markdown",
   "metadata": {},
   "source": [
    "While in/not in automatically checks inside your dictionary keys when testing for equality, sometimes you want a list of your keys as well. Just as with dict.values(), you can use dict.keys() to do the exact same thing!"
   ]
  },
  {
   "cell_type": "code",
   "execution_count": null,
   "metadata": {},
   "outputs": [],
   "source": [
    "temp_dict.keys()"
   ]
  },
  {
   "cell_type": "code",
   "execution_count": null,
   "metadata": {
    "collapsed": true
   },
   "outputs": [],
   "source": []
  },
  {
   "cell_type": "markdown",
   "metadata": {},
   "source": [
    "### Iterating Over Dictionaries\n",
    "\n",
    "Because dictionaries actually exist as key and value **pairs**, trying to loop over them in the same way that we would a list doesn't quite work:"
   ]
  },
  {
   "cell_type": "code",
   "execution_count": null,
   "metadata": {},
   "outputs": [],
   "source": [
    "# dictionary\n",
    "personal = \n",
    "\n"
   ]
  },
  {
   "cell_type": "code",
   "execution_count": null,
   "metadata": {},
   "outputs": [],
   "source": [
    "# This will only give me the keys!!\n",
    "for item in personal:\n",
    "    print(item)"
   ]
  },
  {
   "cell_type": "markdown",
   "metadata": {},
   "source": [
    "If you want to access the values, or both the keys **and ** the values, you need to use specific commands"
   ]
  },
  {
   "cell_type": "code",
   "execution_count": null,
   "metadata": {},
   "outputs": [],
   "source": [
    "# This will give us back a list, as expected, but with a twist\n",
    "personal.items()"
   ]
  },
  {
   "cell_type": "code",
   "execution_count": null,
   "metadata": {
    "scrolled": true
   },
   "outputs": [],
   "source": []
  },
  {
   "cell_type": "code",
   "execution_count": null,
   "metadata": {
    "scrolled": true
   },
   "outputs": [],
   "source": [
    "#You can also use .keys() to get just the keys\n",
    "\n",
    "\n",
    "#And .values() to get just the values\n",
    "\n"
   ]
  },
  {
   "cell_type": "code",
   "execution_count": null,
   "metadata": {
    "collapsed": true
   },
   "outputs": [],
   "source": []
  },
  {
   "cell_type": "code",
   "execution_count": null,
   "metadata": {
    "collapsed": true
   },
   "outputs": [],
   "source": []
  },
  {
   "cell_type": "markdown",
   "metadata": {},
   "source": [
    "####  Challenge\n",
    "\n",
    "We want to create a dictionary that counts how many times a word occurs inside a list. For example, where\n",
    "\n",
    "`sentence = ['list', 'of', 'words', 'list', \"!\"]`\n",
    "\n",
    "The dictionary we should get back would be:\n",
    "\n",
    "```python\n",
    "\n",
    "counts = {'list' : 2, \"of\" : 1, \"words\": 1, \"!\": 1}\n",
    "```\n",
    "\n",
    "Within the code, we'd have to run through the words in the sentence, and increment the dictionary count for that word by 1 each time, like so:\n",
    "\n",
    "` counts[\"of\"] += 1`\n",
    "\n",
    "In your group, try to iterate over the list `sentence`, defined below, to create your own `counts` dictionary. Output the word which occured the most amount of times."
   ]
  },
  {
   "cell_type": "code",
   "execution_count": null,
   "metadata": {},
   "outputs": [],
   "source": [
    "sentence = ['How', 'many', 'words', 'is', 'this', 'so', 'far', '?', \"!\", 'Too', 'many','I', \"say\", \"!\", 'Computer', 'science', 'has', 'gone', 'too', 'far', '!']\n",
    "\n",
    "counts = {}\n",
    "\n",
    "\n",
    "\n"
   ]
  },
  {
   "cell_type": "code",
   "execution_count": null,
   "metadata": {
    "collapsed": true
   },
   "outputs": [],
   "source": []
  },
  {
   "cell_type": "code",
   "execution_count": null,
   "metadata": {
    "collapsed": true
   },
   "outputs": [],
   "source": []
  }
 ],
 "metadata": {
  "kernelspec": {
   "display_name": "Python 3",
   "language": "python",
   "name": "python3"
  },
  "language_info": {
   "codemirror_mode": {
    "name": "ipython",
    "version": 3
   },
   "file_extension": ".py",
   "mimetype": "text/x-python",
   "name": "python",
   "nbconvert_exporter": "python",
   "pygments_lexer": "ipython3",
   "version": "3.6.1"
  },
  "toc": {
   "colors": {
    "hover_highlight": "#DAA520",
    "navigate_num": "#000000",
    "navigate_text": "#333333",
    "running_highlight": "#FF0000",
    "selected_highlight": "#FFD700",
    "sidebar_border": "#EEEEEE",
    "wrapper_background": "#FFFFFF"
   },
   "moveMenuLeft": true,
   "nav_menu": {
    "height": "173px",
    "width": "252px"
   },
   "navigate_menu": true,
   "number_sections": false,
   "sideBar": false,
   "threshold": 4,
   "toc_cell": false,
   "toc_position": {
    "height": "201px",
    "left": "1085.78px",
    "right": "20px",
    "top": "3px",
    "width": "223px"
   },
   "toc_section_display": "none",
   "toc_window_display": true,
   "widenNotebook": false
  },
  "varInspector": {
   "cols": {
    "lenName": 16,
    "lenType": 16,
    "lenVar": 40
   },
   "kernels_config": {
    "python": {
     "delete_cmd_postfix": "",
     "delete_cmd_prefix": "del ",
     "library": "var_list.py",
     "varRefreshCmd": "print(var_dic_list())"
    },
    "r": {
     "delete_cmd_postfix": ") ",
     "delete_cmd_prefix": "rm(",
     "library": "var_list.r",
     "varRefreshCmd": "cat(var_dic_list()) "
    }
   },
   "types_to_exclude": [
    "module",
    "function",
    "builtin_function_or_method",
    "instance",
    "_Feature"
   ],
   "window_display": false
  }
 },
 "nbformat": 4,
 "nbformat_minor": 2
}
