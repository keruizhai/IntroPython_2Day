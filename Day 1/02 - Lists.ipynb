{
 "cells": [
  {
   "cell_type": "markdown",
   "metadata": {},
   "source": [
    "# New Data Type: Lists\n",
    "\n",
    "### Learning Objectives\n",
    "\n",
    "- To understand the basic structure of a list\n",
    "- To know how to create, index and subset a list\n",
    "- Learn the difference between mutable and immutable objects\n",
    "- Adding and deleting list elements\n",
    "    - Describe the difference between append(), insert(), del, remove() & pop()\n",
    "- List functions\n"
   ]
  },
  {
   "cell_type": "markdown",
   "metadata": {},
   "source": [
    "## Lists\n",
    "\n",
    "A list allows you to store many different values, of many different data types, in the same structure. \n",
    "\n",
    "We can make a list by putting the values into square brackets, []\n"
   ]
  },
  {
   "cell_type": "code",
   "execution_count": null,
   "metadata": {},
   "outputs": [],
   "source": [
    "#we can make empty lists\n",
    "[]"
   ]
  },
  {
   "cell_type": "code",
   "execution_count": null,
   "metadata": {},
   "outputs": [],
   "source": [
    "list()"
   ]
  },
  {
   "cell_type": "code",
   "execution_count": null,
   "metadata": {},
   "outputs": [],
   "source": [
    "#Or lists with things inside them\n"
   ]
  },
  {
   "cell_type": "code",
   "execution_count": null,
   "metadata": {},
   "outputs": [],
   "source": [
    "#To save this list though we need to assign it to a variable\n",
    "tempList = [1,2.5,3,\"This\", []]"
   ]
  },
  {
   "cell_type": "markdown",
   "metadata": {},
   "source": [
    "### Indexing a list\n",
    "Sometimes we only want to access certain *elements*, or data, inside a list. We can do by calling the list *index*, or the position of the data element, from inside the list"
   ]
  },
  {
   "cell_type": "code",
   "execution_count": null,
   "metadata": {},
   "outputs": [],
   "source": [
    "tempList[1]"
   ]
  },
  {
   "cell_type": "markdown",
   "metadata": {},
   "source": [
    "Wait, but that's given us the number 2? Why?\n",
    "\n",
    "---\n",
    "\n",
    "This is because Python actually works based on 0-indexing, meaning that it starts counting from 0 instead of 1. \n",
    "\n",
    "This means that if we want to get the first element of our list, we actually have to call list[0], instead of list[1]"
   ]
  },
  {
   "cell_type": "code",
   "execution_count": null,
   "metadata": {},
   "outputs": [],
   "source": [
    "tempList = [1,2.5,3,\"This\", []]\n",
    "\n",
    "print(\"0\",tempList[0])\n",
    "print(\"1\",tempList[1])\n",
    "print(\"2\",tempList[2])\n",
    "print(\"3\",tempList[3])"
   ]
  },
  {
   "cell_type": "markdown",
   "metadata": {},
   "source": [
    "You can also use negative index numbers to start counting from the end of the list instead"
   ]
  },
  {
   "cell_type": "code",
   "execution_count": null,
   "metadata": {},
   "outputs": [],
   "source": [
    "print('first and last:', tempList[0],\"and\", tempList[-1])"
   ]
  },
  {
   "cell_type": "code",
   "execution_count": null,
   "metadata": {},
   "outputs": [],
   "source": []
  },
  {
   "cell_type": "code",
   "execution_count": null,
   "metadata": {},
   "outputs": [],
   "source": []
  },
  {
   "cell_type": "markdown",
   "metadata": {},
   "source": [
    "### Mutability"
   ]
  },
  {
   "cell_type": "markdown",
   "metadata": {},
   "source": [
    "One of the properties of lists is that you can over-write data inside the list with new values. This means that lists are **_mutable_**, or changeable.\n",
    "\n",
    "In contrast, strings are actually immutable. If you want to change something inside a string, you have to replace it with a whole new one.\n"
   ]
  },
  {
   "cell_type": "code",
   "execution_count": null,
   "metadata": {},
   "outputs": [],
   "source": [
    "# What happens when we try to replace part of a string?\n",
    "superhero = \"superman\"\n",
    "superhero[0] = \"S\"\n"
   ]
  },
  {
   "cell_type": "code",
   "execution_count": null,
   "metadata": {},
   "outputs": [],
   "source": [
    "# Try it with a list instead\n",
    "\n",
    "characters"
   ]
  },
  {
   "cell_type": "code",
   "execution_count": null,
   "metadata": {},
   "outputs": [],
   "source": []
  },
  {
   "cell_type": "markdown",
   "metadata": {},
   "source": [
    "### Slicing\n",
    "\n",
    "Slicing allows us to access *sections* of the list, instead of the whole thing, or only a single element.\n",
    "\n",
    "Slicing can be used on a variety of python data structures, including strings. This is because we can think of strings as being a _sequence_ of letters."
   ]
  },
  {
   "cell_type": "code",
   "execution_count": null,
   "metadata": {},
   "outputs": [],
   "source": [
    "indexList = [\"Index 0\", \"Index 1\", \"Index 2\", \"Index 3\"]\n",
    "\n",
    "print('Slicing 1:3 is', indexList[1:4])"
   ]
  },
  {
   "attachments": {
    "image.png": {
     "image/png": "[encoded data removed]"
    }
   },
   "cell_type": "markdown",
   "metadata": {},
   "source": [
    "When doing this you probably noticed that slicing is _non-inclusive_, meaning that in a slice from indexes 0-5, the \"5\" is not included. This is because sequencing in Python looks sort of like this:\n",
    "![image.png](attachment:image.png)\n",
    "\n",
    "That does mean that we can do stuff like this though, while slicing:"
   ]
  },
  {
   "cell_type": "code",
   "execution_count": null,
   "metadata": {},
   "outputs": [],
   "source": [
    "print('Index 1 to 3 is', indexList[1:4]) \n",
    "\n",
    "# Whereas if we were to try and find index[4], it would be over the edge!\n",
    "print(indexList[4])\n"
   ]
  },
  {
   "cell_type": "markdown",
   "metadata": {},
   "source": [
    "We can also \"auto-complete\" our slicing by leaving the front or back of the slice open:"
   ]
  },
  {
   "cell_type": "code",
   "execution_count": null,
   "metadata": {},
   "outputs": [],
   "source": [
    "print('Index 2 to end is', indexList[2:])"
   ]
  },
  {
   "cell_type": "code",
   "execution_count": null,
   "metadata": {},
   "outputs": [],
   "source": [
    "print(\"Start to index 2 is:\", indexList[:2])"
   ]
  },
  {
   "cell_type": "code",
   "execution_count": null,
   "metadata": {},
   "outputs": [],
   "source": [
    "#As well as do negative, or wrap-around slicing\n",
    "print('Index 1 to -1 is', indexList[1:-1])"
   ]
  },
  {
   "cell_type": "code",
   "execution_count": null,
   "metadata": {},
   "outputs": [],
   "source": [
    "print('Index start to end is', indexList[:])"
   ]
  },
  {
   "cell_type": "code",
   "execution_count": null,
   "metadata": {},
   "outputs": [],
   "source": [
    "# You can do the same thing on strings\n",
    "stringExample = \"Hello World!\"\n",
    "\n",
    "print(stringExample[:5])\n"
   ]
  },
  {
   "cell_type": "code",
   "execution_count": null,
   "metadata": {},
   "outputs": [],
   "source": [
    "#You can also use slicing to quickly assign new values to a list\n",
    "odds1 = [1,3,5,7]\n",
    "\n",
    "#change index 1 -> 14, and 2 -> 9\n",
    "odds1[1:3] = [14,9] \n",
    "\n",
    "print(odds1)"
   ]
  },
  {
   "cell_type": "markdown",
   "metadata": {},
   "source": [
    "#### Mutability and Variable assignment\n",
    "\n",
    "Say that you want to a copy the values inside a list into a different list, but then want to change one of them.\n",
    "\n",
    "Because of the way that these two lists are stored within your computer's memory, if you just use variable assignment (e.g. list2 = list1), this can cause problems later on."
   ]
  },
  {
   "cell_type": "code",
   "execution_count": null,
   "metadata": {},
   "outputs": [],
   "source": [
    "odds1 = [1,3,5,7]\n",
    "odds2 = odds1\n",
    "\n",
    "print(\"Odds1:\",odds1)\n",
    "print(\"Odds2:\", odds2)"
   ]
  },
  {
   "cell_type": "code",
   "execution_count": null,
   "metadata": {},
   "outputs": [],
   "source": [
    "odds1[1] = 13\n",
    "\n",
    "print(\"Odds1:\",odds1)\n",
    "print(\"Odds2:\", odds2)"
   ]
  },
  {
   "cell_type": "markdown",
   "metadata": {},
   "source": [
    "Oh dear, that's not quite what we wanted. What would happen if we just copied everything inside the list instead?"
   ]
  },
  {
   "cell_type": "code",
   "execution_count": null,
   "metadata": {},
   "outputs": [],
   "source": []
  },
  {
   "cell_type": "markdown",
   "metadata": {},
   "source": [
    "#### Challenge\n",
    "\n",
    "Given a string, `s`, of length at most 200 letters and a variety of integers, return the slice of this string from paired indices, inclusively. e.g. `a` through `b`, `c` through `d`, and `e` through `f`, etc. Make sure to include a space between each word. In other words, we should *include* the letters AT s[b] and s[d] in our slice.\n",
    "\n",
    "E.g.\n",
    "\n",
    "`s = \"HumptyDumptysatonawallHumptyDumptyhadagreatfallAlltheKingshorsesandalltheKingsmenCouldntputHumptyDumptytogetheragain\"\n",
    "a = 22; b = 27; c = 97; d = 102`\n",
    "\n",
    "Would print:\n",
    "\n",
    "`Humpty Dumpty`\n"
   ]
  },
  {
   "cell_type": "code",
   "execution_count": null,
   "metadata": {
    "scrolled": false
   },
   "outputs": [],
   "source": [
    "zen = \"BeautifulisbetterthanuglySimpleisbetterthancomplexComplexisbetterthancomplicated\"\n",
    "#Pair 1\n",
    "a = 50; b = 56\n",
    "# Pair 2\n",
    "c = 31; d = 32\n",
    "# Pair 3\n",
    "e = 21; f = 24\n"
   ]
  },
  {
   "cell_type": "code",
   "execution_count": null,
   "metadata": {},
   "outputs": [],
   "source": []
  },
  {
   "cell_type": "code",
   "execution_count": null,
   "metadata": {},
   "outputs": [],
   "source": []
  },
  {
   "cell_type": "code",
   "execution_count": null,
   "metadata": {
    "collapsed": true
   },
   "outputs": [],
   "source": []
  },
  {
   "cell_type": "markdown",
   "metadata": {},
   "source": [
    "## Adding and Deleting List Elements\n",
    "\n",
    "Just creating our list isn't enough though - a lot of the time we need to be able to delete and add new elements into it as required. This can be used to record which items you've already seen when going through a spreadsheet, checking whether something belongs to a certain group, etc. We can do this with a few different methods.\n",
    "\n",
    "### Append\n",
    "To add a new variable into a list, we can use the `.append()` method. This adds the newest variable onto the *end* of the list.\n"
   ]
  },
  {
   "cell_type": "code",
   "execution_count": null,
   "metadata": {},
   "outputs": [],
   "source": [
    "odds = [1,3,5,7]"
   ]
  },
  {
   "cell_type": "code",
   "execution_count": null,
   "metadata": {},
   "outputs": [],
   "source": [
    "print(\"Odds before:\", odds)\n",
    "#list.append()\n",
    "odds.append(9)\n",
    "\n",
    "print(\"Odds after:\", odds)"
   ]
  },
  {
   "cell_type": "markdown",
   "metadata": {},
   "source": [
    "### Insert\n",
    "\n",
    "`insert()` lets us put a new item into your list at the location of your choosing. \n",
    "\n",
    "The basic structure of this is list.insert(list index,variable)"
   ]
  },
  {
   "cell_type": "code",
   "execution_count": null,
   "metadata": {},
   "outputs": [],
   "source": [
    "odds[2] = 4"
   ]
  },
  {
   "cell_type": "code",
   "execution_count": null,
   "metadata": {},
   "outputs": [],
   "source": [
    "odds.insert(3,5)\n",
    "print (odds)\n"
   ]
  },
  {
   "cell_type": "code",
   "execution_count": null,
   "metadata": {},
   "outputs": [],
   "source": [
    "odds.insert(20,4)\n",
    "print(odds)"
   ]
  },
  {
   "cell_type": "markdown",
   "metadata": {},
   "source": [
    "### Deleting items\n",
    "\n",
    "There are three options when deleting items from your list. \n",
    "\n",
    "The first is `del`, which removes the item at a specific index location and returns your modified list back to you. This works based on this kind of format, `del list[index]`"
   ]
  },
  {
   "cell_type": "code",
   "execution_count": null,
   "metadata": {},
   "outputs": [],
   "source": [
    "odds = [1,3,4,5,7,8]\n",
    "print(odds)"
   ]
  },
  {
   "cell_type": "code",
   "execution_count": null,
   "metadata": {},
   "outputs": [],
   "source": [
    "del odds[-3]\n",
    "print (odds)"
   ]
  },
  {
   "cell_type": "code",
   "execution_count": null,
   "metadata": {},
   "outputs": [],
   "source": [
    "# But you can't go off the end: Error\n",
    "del odds[12]"
   ]
  },
  {
   "cell_type": "markdown",
   "metadata": {},
   "source": [
    "The second is `remove()`. Rather than deleting from a specific list index, `remove()` will find and delete the first matching *value* from your list, and return your modified list back to you.\n",
    "\n",
    "It's typically used list this: `list.remove(variable)`"
   ]
  },
  {
   "cell_type": "code",
   "execution_count": null,
   "metadata": {},
   "outputs": [],
   "source": [
    "odds = [1, 3, 4, 5, 4, 7, 9, 9]"
   ]
  },
  {
   "cell_type": "code",
   "execution_count": null,
   "metadata": {
    "collapsed": true
   },
   "outputs": [],
   "source": [
    "odds.remove(4)\n",
    "print(odds)"
   ]
  },
  {
   "cell_type": "code",
   "execution_count": null,
   "metadata": {
    "collapsed": true
   },
   "outputs": [],
   "source": [
    "#If it doesn't exist though....Error\n",
    "odds.remove(12)"
   ]
  },
  {
   "cell_type": "markdown",
   "metadata": {},
   "source": [
    "Lastly we have `.pop()`. \n",
    "\n",
    "Like `del`, `pop()` is index based. However, while your list is still modified, `pop()` actually gives you back the value that you've removed. "
   ]
  },
  {
   "cell_type": "code",
   "execution_count": null,
   "metadata": {
    "collapsed": true
   },
   "outputs": [],
   "source": [
    "odds"
   ]
  },
  {
   "cell_type": "code",
   "execution_count": null,
   "metadata": {},
   "outputs": [],
   "source": [
    "temp = odds.pop(1)"
   ]
  },
  {
   "cell_type": "code",
   "execution_count": null,
   "metadata": {
    "collapsed": true
   },
   "outputs": [],
   "source": [
    "print(\"Odds before pop:\",odds)\n",
    "\n",
    "print(odds.pop(5))\n",
    "\n",
    "print(\"Odds after pop:\", odds)"
   ]
  },
  {
   "cell_type": "code",
   "execution_count": null,
   "metadata": {},
   "outputs": [],
   "source": [
    "# Similarly to del...Error\n",
    "odds.pop(10)"
   ]
  },
  {
   "cell_type": "markdown",
   "metadata": {},
   "source": [
    "#### Challenge\n",
    "\n",
    "So far, most of the elements that we have added to our collections have been string, float, or integer data types. However, lists can store practically any other data type, including another list. This process is called nesting and it is a bit like Russian dolls."
   ]
  },
  {
   "cell_type": "code",
   "execution_count": null,
   "metadata": {},
   "outputs": [],
   "source": [
    "pets = ['dogs', 'cats', 'fish']\n",
    "\n",
    "pets.pop(0)   # Get rid of dogs\n",
    "dog_breeds = ['bulldog', 'terrier', 'greyhound']\n",
    "pets.append(dog_breeds)  # append list of dog breeds available\n"
   ]
  },
  {
   "cell_type": "markdown",
   "metadata": {},
   "source": [
    "With your team mates, work out what this code does, and then how to return the string 'greyhound' from inside this list.\n",
    "\n",
    "Hint: if you index a list like this, `list[0]`, and `type(list[0])` is a list, how might you pull out a value from inside this second list?"
   ]
  },
  {
   "cell_type": "code",
   "execution_count": null,
   "metadata": {},
   "outputs": [],
   "source": []
  },
  {
   "cell_type": "code",
   "execution_count": null,
   "metadata": {},
   "outputs": [],
   "source": []
  },
  {
   "cell_type": "code",
   "execution_count": null,
   "metadata": {
    "collapsed": true
   },
   "outputs": [],
   "source": []
  },
  {
   "cell_type": "markdown",
   "metadata": {},
   "source": [
    "### Other list functions\n",
    "\n",
    "More useful list functions are `list.sort()`, and `list.reverse()`\n",
    "\n",
    "`list.sort()` will sort your list based on \"lexicographic order\". This means that capital A-Z are sorted before lower-case a-z. \n",
    "\n",
    "However, sort() will not work if you have both strings and numeric data types in your list. It can only work if they are all strings, or all numeric (a combination of int and float)."
   ]
  },
  {
   "cell_type": "code",
   "execution_count": null,
   "metadata": {},
   "outputs": [],
   "source": [
    "helpers"
   ]
  },
  {
   "cell_type": "code",
   "execution_count": null,
   "metadata": {
    "collapsed": true
   },
   "outputs": [],
   "source": [
    "helpers.sort()\n",
    "print(helpers)"
   ]
  },
  {
   "cell_type": "code",
   "execution_count": null,
   "metadata": {
    "collapsed": true
   },
   "outputs": [],
   "source": [
    "helpers.append(3)\n",
    "print(\"New names:\", helpers)"
   ]
  },
  {
   "cell_type": "code",
   "execution_count": null,
   "metadata": {
    "collapsed": true
   },
   "outputs": [],
   "source": [
    "#Doesn't work with a mixture of data types\n",
    "helpers.sort()"
   ]
  },
  {
   "cell_type": "code",
   "execution_count": null,
   "metadata": {
    "collapsed": true
   },
   "outputs": [],
   "source": [
    "# But is fine with both ints and floats\n"
   ]
  },
  {
   "cell_type": "markdown",
   "metadata": {},
   "source": [
    "`reverse()` will take your list and reverse the order of the elements. \n",
    "\n",
    "So a list that was [1,2,3], would become [3,2,1]"
   ]
  },
  {
   "cell_type": "code",
   "execution_count": null,
   "metadata": {},
   "outputs": [],
   "source": [
    "nums.reverse()\n",
    "print(nums)"
   ]
  },
  {
   "cell_type": "code",
   "execution_count": null,
   "metadata": {},
   "outputs": [],
   "source": [
    "#the list doesn't have to be sorted either\n",
    "print(helpers)\n",
    "\n",
    "helpers.reverse()\n",
    "\n",
    "print(helpers)\n"
   ]
  },
  {
   "cell_type": "code",
   "execution_count": null,
   "metadata": {},
   "outputs": [],
   "source": []
  }
 ],
 "metadata": {
  "kernelspec": {
   "display_name": "Python 3",
   "language": "python",
   "name": "python3"
  },
  "language_info": {
   "codemirror_mode": {
    "name": "ipython",
    "version": 3
   },
   "file_extension": ".py",
   "mimetype": "text/x-python",
   "name": "python",
   "nbconvert_exporter": "python",
   "pygments_lexer": "ipython3",
   "version": "3.6.1"
  },
  "toc": {
   "colors": {
    "hover_highlight": "#DAA520",
    "navigate_num": "#000000",
    "navigate_text": "#333333",
    "running_highlight": "#FF0000",
    "selected_highlight": "#FFD700",
    "sidebar_border": "#EEEEEE",
    "wrapper_background": "#FFFFFF"
   },
   "moveMenuLeft": true,
   "nav_menu": {
    "height": "281px",
    "width": "252px"
   },
   "navigate_menu": true,
   "number_sections": false,
   "sideBar": false,
   "threshold": 4,
   "toc_cell": false,
   "toc_position": {
    "height": "40px",
    "left": "802.287px",
    "right": "20px",
    "top": "69px",
    "width": "292px"
   },
   "toc_section_display": "none",
   "toc_window_display": true,
   "widenNotebook": false
  },
  "varInspector": {
   "cols": {
    "lenName": 16,
    "lenType": 16,
    "lenVar": 40
   },
   "kernels_config": {
    "python": {
     "delete_cmd_postfix": "",
     "delete_cmd_prefix": "del ",
     "library": "var_list.py",
     "varRefreshCmd": "print(var_dic_list())"
    },
    "r": {
     "delete_cmd_postfix": ") ",
     "delete_cmd_prefix": "rm(",
     "library": "var_list.r",
     "varRefreshCmd": "cat(var_dic_list()) "
    }
   },
   "types_to_exclude": [
    "module",
    "function",
    "builtin_function_or_method",
    "instance",
    "_Feature"
   ],
   "window_display": false
  }
 },
 "nbformat": 4,
 "nbformat_minor": 2
}
