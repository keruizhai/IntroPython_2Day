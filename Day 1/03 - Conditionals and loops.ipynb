{
 "cells": [
  {
   "cell_type": "markdown",
   "metadata": {},
   "source": [
    "# Conditionals\n",
    "\n",
    "In this session we are going to learn how to program your computer to make choices about which action it should perform\n",
    "\n",
    "### What we already know\n",
    "- basic data types (ints, floats, strings)\n",
    "- Some functions and methods to manipulate these data types (i.e. type(), len(), str.upper())\n",
    "- where to put our data\n",
    "    - one piece of data within a variable\n",
    "    - multiple pieces of data within a list\n",
    "- and how to manipulate and build these variables and lists\n",
    "\n",
    "### Learning Objectives\n",
    "\n",
    "- Write conditional statements including `if`, `elif`, and `else` branches\n",
    "- Correctly evaluate expressions containing `and` and `or`\n",
    "- Correctly write and interpret code containing nested conditionals\n",
    "- Learn how to make the computer repeat instructions with loops\n"
   ]
  },
  {
   "cell_type": "markdown",
   "metadata": {},
   "source": [
    "## What Are Conditionals?\n",
    "\n",
    "Conditionals allow you make the computer or program perform a certain action depending on particular conditions.\n",
    "\n",
    "But to assess a condition, we first need to understand how we can test them.\n",
    "\n",
    "These tests are usually done using \"equality operators\". Things like:\n",
    "\n",
    "- `<`, less than\n",
    "- `>`, greater than\n",
    "- `<=` less than or equal to\n",
    "- `>=` greater than or equal to\n",
    "- `==`, equals\n",
    "- `!=`, does not equal\n",
    "- `is`, `in` and `not`\n",
    "\n",
    "Let's try using these in our cells"
   ]
  },
  {
   "cell_type": "code",
   "execution_count": null,
   "metadata": {},
   "outputs": [],
   "source": [
    "# less/greater than\n"
   ]
  },
  {
   "cell_type": "code",
   "execution_count": null,
   "metadata": {},
   "outputs": [],
   "source": [
    "#assigning the \"none\" value to the variable 'var'\n",
    "var = None\n",
    "\n",
    "# whereas double == is testing for equality\n",
    "var == True"
   ]
  },
  {
   "cell_type": "code",
   "execution_count": null,
   "metadata": {},
   "outputs": [],
   "source": [
    "# equal/not equal to\n"
   ]
  },
  {
   "cell_type": "code",
   "execution_count": 2,
   "metadata": {},
   "outputs": [],
   "source": [
    "# Can use in to test whether something exists in a data structure like a list\n",
    "odds = [1,3,5,7]\n"
   ]
  },
  {
   "cell_type": "code",
   "execution_count": 3,
   "metadata": {
    "scrolled": true
   },
   "outputs": [
    {
     "name": "stdout",
     "output_type": "stream",
     "text": [
      "True\n",
      "False\n"
     ]
    }
   ],
   "source": [
    "#we can use 'in' and 'not in; to check whether a value is in a list\n",
    "print(1 in odds)\n",
    "print('a' in odds)"
   ]
  },
  {
   "cell_type": "markdown",
   "metadata": {},
   "source": [
    "#### Checking for Truth and Falsehood\n",
    "\n",
    "These conditonal statements are returning True and False when you run this code. These just so happen to be another data type, **booleans**. These are the simplest ones, as they can only be `True` or `False`. You can also make variables have boolean values, and test those."
   ]
  },
  {
   "cell_type": "code",
   "execution_count": 4,
   "metadata": {},
   "outputs": [],
   "source": [
    "#example\n",
    "test = True\n",
    "\n",
    "# Can test True/False in a few ways. Using ==, or is/not."
   ]
  },
  {
   "cell_type": "code",
   "execution_count": null,
   "metadata": {},
   "outputs": [],
   "source": [
    "test is True"
   ]
  },
  {
   "cell_type": "code",
   "execution_count": null,
   "metadata": {},
   "outputs": [],
   "source": [
    "test is not True"
   ]
  },
  {
   "cell_type": "code",
   "execution_count": null,
   "metadata": {},
   "outputs": [],
   "source": [
    "test == True"
   ]
  },
  {
   "cell_type": "markdown",
   "metadata": {},
   "source": [
    "Now that we've got some basics down, let's try to use these inside something a bit more complicated"
   ]
  },
  {
   "cell_type": "markdown",
   "metadata": {},
   "source": [
    "Take a situation like this for example - \n",
    "\n",
    "It's early morning. I wake up, and need to get ready for the day. What decisions should I make? What should I check before I leave?\n",
    "\n",
    "Firstly, let's say that it's winter."
   ]
  },
  {
   "cell_type": "code",
   "execution_count": null,
   "metadata": {
    "collapsed": true
   },
   "outputs": [],
   "source": [
    "winter = True"
   ]
  },
  {
   "cell_type": "markdown",
   "metadata": {},
   "source": [
    "I can now use the function, `if`, to test something and then perform an action based on that.\n",
    "\n",
    "**Plain Talk:**\n",
    "\n",
    "If a condition is true, then do this action to this thing\n"
   ]
  },
  {
   "cell_type": "markdown",
   "metadata": {
    "collapsed": true
   },
   "source": [
    "** Python Talk**\n",
    "\n",
    "```python\n",
    "if condition:\n",
    "    do this thing\n",
    "   ```"
   ]
  },
  {
   "cell_type": "code",
   "execution_count": null,
   "metadata": {},
   "outputs": [],
   "source": [
    "winter = False #this is a Boolean type. Booleans are True or False.\n",
    "\n",
    "if winter == True:\n",
    "    print(\"Turn on the heater\")\n",
    "\n",
    "print(\"Outside the if block\")"
   ]
  },
  {
   "cell_type": "code",
   "execution_count": null,
   "metadata": {
    "collapsed": true
   },
   "outputs": [],
   "source": []
  },
  {
   "cell_type": "code",
   "execution_count": null,
   "metadata": {
    "collapsed": true
   },
   "outputs": [],
   "source": []
  },
  {
   "cell_type": "markdown",
   "metadata": {},
   "source": [
    "However, this doesn't necessarily encompass all of the situations we want to perform an action for. What if we wanted to turn on the cooler if it wasn't winter?\n",
    "\n",
    "This is where we use `else` statements - i.e. if your `if` condition isn't true, we perform the `else` action instead"
   ]
  },
  {
   "cell_type": "code",
   "execution_count": null,
   "metadata": {},
   "outputs": [],
   "source": [
    "if winter == True:\n",
    "    print(\"Turn on the heater\")\n",
    "\n",
    "else:\n",
    "    print(\"Turn on the cooler\")\n",
    "\n",
    "print(\"Outside the if block\")"
   ]
  },
  {
   "cell_type": "code",
   "execution_count": null,
   "metadata": {
    "collapsed": true
   },
   "outputs": [],
   "source": []
  },
  {
   "cell_type": "markdown",
   "metadata": {},
   "source": [
    "Often though, we need to test for multiple things inside a single `if` block. A single `if` isn't enough to cover all of the options and items we need to test! What if it's spring, and still quite warm? We probably wouldn't want to turn on the heater OR the cooler, right?"
   ]
  },
  {
   "cell_type": "code",
   "execution_count": null,
   "metadata": {},
   "outputs": [],
   "source": [
    "season = \"Spring\"\n",
    "if season == \"Winter\":\n",
    "    print(\"Turn on the heater\")\n",
    "\n",
    "elif season is \"Spring\":\n",
    "    print(\"Just make the goddamn coffee already\")\n",
    "    \n",
    "else:\n",
    "    print(\"Turn on the cooler\")\n",
    "\n",
    "print(\"Outside the if block\")"
   ]
  },
  {
   "cell_type": "code",
   "execution_count": null,
   "metadata": {
    "collapsed": true
   },
   "outputs": [],
   "source": []
  },
  {
   "cell_type": "code",
   "execution_count": null,
   "metadata": {
    "collapsed": true
   },
   "outputs": [],
   "source": []
  },
  {
   "cell_type": "markdown",
   "metadata": {},
   "source": [
    "But! You need to be careful of how your structure your if statements. Take the below example:"
   ]
  },
  {
   "cell_type": "code",
   "execution_count": null,
   "metadata": {},
   "outputs": [],
   "source": [
    "# Where count is only ever 0 - 100\n",
    "count = 20\n",
    "\n",
    "if count < 100:\n",
    "    print(\"Less than 100\")\n",
    "\n",
    "elif count < 50:\n",
    "    print(\"Less than 50\")\n",
    "\n",
    "print(\"Outside the if block\")"
   ]
  },
  {
   "cell_type": "code",
   "execution_count": null,
   "metadata": {
    "collapsed": true
   },
   "outputs": [],
   "source": []
  },
  {
   "cell_type": "markdown",
   "metadata": {},
   "source": [
    "We can also place conditional statements within a conditional statement. This is known as nesting."
   ]
  },
  {
   "cell_type": "markdown",
   "metadata": {
    "collapsed": true
   },
   "source": [
    "``` python\n",
    "if condition:\n",
    "    if condition:\n",
    "        do thing\n",
    "```"
   ]
  },
  {
   "cell_type": "code",
   "execution_count": null,
   "metadata": {},
   "outputs": [],
   "source": [
    "count = 20\n",
    "\n",
    "if count < 100:\n",
    "    print(\"Less than 100\")\n",
    "    \n",
    "    if count < 50:\n",
    "        print(\"Less than 50\")\n",
    "\n",
    "print(\"Outside the if block\")"
   ]
  },
  {
   "cell_type": "code",
   "execution_count": null,
   "metadata": {
    "collapsed": true
   },
   "outputs": [],
   "source": []
  },
  {
   "cell_type": "markdown",
   "metadata": {},
   "source": [
    "You can also combine multiple conditions in a single line using the `and` or `or` statements, like so:\n",
    "\n",
    "We can also use & instead of `and`, and `|` instead of `or`"
   ]
  },
  {
   "cell_type": "code",
   "execution_count": null,
   "metadata": {},
   "outputs": [],
   "source": [
    "winter = False #this is a Boolean type. Booleans are True or False.\n",
    "coffee = None\n",
    "\n",
    "\n",
    "if (winter is True) or (coffee == None):\n",
    "    print (\"This is alright I guess\")\n",
    "    \n",
    "elif (winter is True) & (coffee == None):\n",
    "    print (\"Kill everything\")"
   ]
  },
  {
   "cell_type": "code",
   "execution_count": null,
   "metadata": {
    "collapsed": true
   },
   "outputs": [],
   "source": []
  },
  {
   "cell_type": "code",
   "execution_count": null,
   "metadata": {
    "collapsed": true
   },
   "outputs": [],
   "source": []
  },
  {
   "cell_type": "markdown",
   "metadata": {},
   "source": [
    "#### Challenge\n",
    "\n",
    "Together with your team mates, come up with your own morning routine. Try to use as many of the things that we've learned as possible - if, elif, else, nesting, and combined conditions - without nesting more than 2-3 if statements.\n",
    "\n"
   ]
  },
  {
   "cell_type": "code",
   "execution_count": null,
   "metadata": {
    "collapsed": true
   },
   "outputs": [],
   "source": []
  },
  {
   "cell_type": "code",
   "execution_count": null,
   "metadata": {
    "collapsed": true
   },
   "outputs": [],
   "source": []
  },
  {
   "cell_type": "code",
   "execution_count": null,
   "metadata": {
    "collapsed": true
   },
   "outputs": [],
   "source": []
  },
  {
   "cell_type": "code",
   "execution_count": null,
   "metadata": {
    "collapsed": true
   },
   "outputs": [],
   "source": []
  },
  {
   "cell_type": "code",
   "execution_count": null,
   "metadata": {
    "collapsed": true
   },
   "outputs": [],
   "source": []
  },
  {
   "cell_type": "markdown",
   "metadata": {
    "collapsed": true
   },
   "source": [
    "#### _Optional Challenge_\n",
    "\n",
    "The bosses of a particular company recently evaluated their staff's salaries, and found that many weren't falling in line with the industry standard. To fix this, they decided that:\n",
    "\n",
    "- all people earning below \\$45,000 would get a 10% raise\n",
    "- all people earning below \\$60,000 would get a 5% raise\n",
    "- all others would get a 2% raise\n",
    "\n",
    "\n",
    "Your challenge now is to write a series of if, elif and else statements to adjust the employee salaries.\n"
   ]
  },
  {
   "cell_type": "code",
   "execution_count": null,
   "metadata": {},
   "outputs": [],
   "source": [
    "from numpy import random\n",
    "\n",
    "#This will randomly generate a number between 42000 and 130000\n",
    "salary = random.randint(42000,130000)\n",
    "\n",
    "print(salary)\n"
   ]
  },
  {
   "cell_type": "code",
   "execution_count": null,
   "metadata": {
    "collapsed": true
   },
   "outputs": [],
   "source": []
  },
  {
   "cell_type": "code",
   "execution_count": null,
   "metadata": {
    "collapsed": true
   },
   "outputs": [],
   "source": [
    "\n",
    "\n"
   ]
  },
  {
   "cell_type": "code",
   "execution_count": null,
   "metadata": {
    "collapsed": true
   },
   "outputs": [],
   "source": []
  },
  {
   "cell_type": "markdown",
   "metadata": {},
   "source": [
    "However they realised that after the adjustments, some people weren’t being paid appropriately. Someone who previously earned \\$61,000 dollars would only get a 2% raise to \\$62220, while someone who was earning \\$60,000 would get a 5% raise to \\$63000. \n",
    "\n",
    "To adjust for this, everyone with a salary between (inclusive):\n",
    "- \\$60,000 and \\$62,000 will have their salary adjusted to \\$63,000\n",
    "- \\$45,000 and \\$48,000 will have their wage adjusted to \\$50,000.\n",
    "\n",
    "Edit your previous code to take these new adjustments into account"
   ]
  },
  {
   "cell_type": "code",
   "execution_count": null,
   "metadata": {
    "collapsed": true
   },
   "outputs": [],
   "source": []
  },
  {
   "cell_type": "code",
   "execution_count": null,
   "metadata": {
    "collapsed": true
   },
   "outputs": [],
   "source": []
  },
  {
   "cell_type": "markdown",
   "metadata": {},
   "source": [
    "# For Loops - simplifying your code\n",
    "\n",
    "#### Learning Objectives:\n",
    "\n",
    "- Explain what a for loop does.\n",
    "- Correctly write for loops to repeat simple calculations.\n",
    "- Trace changes to a loop variable as the loop runs.\n",
    "- Trace changes to other variables as they are updated by a for loop.\n",
    "\n",
    "\n"
   ]
  },
  {
   "cell_type": "markdown",
   "metadata": {},
   "source": [
    "Suppose we want to print each character in the word \"lead\" on a line of its own. One way is to use four print statements:"
   ]
  },
  {
   "cell_type": "code",
   "execution_count": null,
   "metadata": {
    "collapsed": true
   },
   "outputs": [],
   "source": [
    "element = \"lead\"\n",
    "print(element[0])\n",
    "print(element[1])\n",
    "print(element[2])\n",
    "print(element[3])"
   ]
  },
  {
   "cell_type": "markdown",
   "metadata": {},
   "source": [
    "But that's a bad approach. Firstly, you're doing a lot more typing than you need to, and it doesn't scale well. If you wanted to print every single letter in a sentence, or paragraph, you'd spend more time programming it than if you had just copied it out yourself. \n",
    "\n",
    "Secondly, if you were trying to automate something - so that it does something without you needing to be there every step of the way - this approach wouldn't work at all. Not every string, or list, or dictionary, is going to be the exact same size. You would need to program a new code every time you got new data."
   ]
  },
  {
   "cell_type": "markdown",
   "metadata": {},
   "source": [
    "Instead, we can use `for` loops. This is a function that lets us \"iterate\", or loop, over your strings and other data structures."
   ]
  },
  {
   "cell_type": "markdown",
   "metadata": {},
   "source": [
    "**Plain English Please:**\n",
    "\n",
    "for each variable in a collection, perform an action on that variable\n",
    "\n",
    "**Python Structure:**\n",
    "\n",
    "The general structure of a `for` loop looks like this\n",
    "\n",
    "```python\n",
    "for variable in collection:\n",
    "    do a thing\n",
    "```"
   ]
  },
  {
   "cell_type": "code",
   "execution_count": null,
   "metadata": {
    "collapsed": true,
    "scrolled": true
   },
   "outputs": [],
   "source": [
    "# We can do this with both lists"
   ]
  },
  {
   "cell_type": "code",
   "execution_count": null,
   "metadata": {
    "collapsed": true
   },
   "outputs": [],
   "source": [
    "# and with strings! Any kind of \"iterable\" data type"
   ]
  },
  {
   "cell_type": "code",
   "execution_count": null,
   "metadata": {
    "collapsed": true
   },
   "outputs": [],
   "source": []
  },
  {
   "cell_type": "markdown",
   "metadata": {},
   "source": [
    "Note that a loop variable is just a variable that's being used to record progress in a loop. It still exists after the loop is over, and we can re-use variables previously defined as loop variables as well:"
   ]
  },
  {
   "cell_type": "code",
   "execution_count": null,
   "metadata": {},
   "outputs": [],
   "source": [
    "name = \"Kahli\"\n",
    "print(name)\n",
    "\n",
    "# This is going to re-write \"name\"\n",
    "for name in 'abc':\n",
    "    print(name)\n",
    "\n",
    "print('after the loop, name is', name)"
   ]
  },
  {
   "cell_type": "markdown",
   "metadata": {},
   "source": [
    "### Combining loops and conditionals\n"
   ]
  },
  {
   "cell_type": "markdown",
   "metadata": {
    "collapsed": true
   },
   "source": [
    "#### Challenge\n",
    "\n",
    "Given the list, veg = ['onion', 'potato', 'ginger', 'cucumber'], iterate over the list, but ONLY print out the first letter in the string. Unless the string is potato - then print out the whole thing"
   ]
  },
  {
   "cell_type": "code",
   "execution_count": null,
   "metadata": {
    "collapsed": true
   },
   "outputs": [],
   "source": [
    "veg = ['onion', 'potato', 'ginger', 'cucumber']"
   ]
  },
  {
   "cell_type": "code",
   "execution_count": null,
   "metadata": {
    "collapsed": true
   },
   "outputs": [],
   "source": []
  },
  {
   "cell_type": "code",
   "execution_count": null,
   "metadata": {
    "collapsed": true
   },
   "outputs": [],
   "source": []
  },
  {
   "cell_type": "markdown",
   "metadata": {},
   "source": [
    "#### Challenge\n",
    "\n",
    "Iterate through a given list of numbers. Add **odd** numbers to another list, called odd. Add **even** numbers to another list called even. Then, sort and print out both odd and even lists.\n",
    "\n",
    "Hint: remember modulo, %?"
   ]
  },
  {
   "cell_type": "code",
   "execution_count": null,
   "metadata": {},
   "outputs": [],
   "source": [
    "numberList = [1,4,3,6,5,9,8,2,7,10]\n"
   ]
  },
  {
   "cell_type": "code",
   "execution_count": null,
   "metadata": {
    "collapsed": true
   },
   "outputs": [],
   "source": []
  },
  {
   "cell_type": "code",
   "execution_count": null,
   "metadata": {
    "collapsed": true
   },
   "outputs": [],
   "source": []
  },
  {
   "cell_type": "code",
   "execution_count": null,
   "metadata": {
    "collapsed": true
   },
   "outputs": [],
   "source": []
  },
  {
   "cell_type": "markdown",
   "metadata": {},
   "source": [
    "### In Python, all objects are special, and one thing that makes a *list* special is because it is:\n",
    "\n",
    "#### *Iterable*\n",
    "\n",
    " Which means we can use the for loop like we have been doing, thought what if we don't have a list (or something like it) and want to iterate over it?"
   ]
  },
  {
   "cell_type": "markdown",
   "metadata": {},
   "source": [
    "### Range - the quick and dirty iterable for the hard working Pythoneer"
   ]
  },
  {
   "cell_type": "markdown",
   "metadata": {},
   "source": [
    "Generally speaking, you can iterate, or loop, over most data types that act as collections or sequences. We are able to loop over the elements of strings because, inside Python, they are treated as a _sequence of letters_, just as a list is a _sequence of objects_. \n",
    "\n",
    "However, sometimes you want to loop over an object that it not naturally iterable, or you may even want to use the list (or string) **indexes** instead of the list item itself. \n",
    "\n",
    "e.g. where list = [1,2,3,4,5], I might only want to print out the elements 1, 2 and 3. Rather than programming an `if` statement like:"
   ]
  },
  {
   "cell_type": "code",
   "execution_count": null,
   "metadata": {},
   "outputs": [],
   "source": [
    "listed = [1,2,3,4,5]\n",
    "\n",
    "for num in listed:\n",
    "    if (num == 1) or (num == 2) or (num == 3):\n",
    "        print (num)\n"
   ]
  },
  {
   "cell_type": "markdown",
   "metadata": {},
   "source": [
    "I can instead use the list indexes to get the data I want:"
   ]
  },
  {
   "cell_type": "code",
   "execution_count": null,
   "metadata": {
    "collapsed": true
   },
   "outputs": [],
   "source": [
    "for i in [1,2,3]:\n",
    "    print(listed[i])"
   ]
  },
  {
   "cell_type": "markdown",
   "metadata": {},
   "source": [
    "But! Rather than creating a list by hand every time you want to do something like that, you can use the `range()` function to create our own iterators for the values we specify."
   ]
  },
  {
   "cell_type": "code",
   "execution_count": null,
   "metadata": {},
   "outputs": [],
   "source": [
    "for num in range(3):\n",
    "    print(listed[num])\n"
   ]
  },
  {
   "cell_type": "markdown",
   "metadata": {},
   "source": [
    "`range()` works with anywhere between 1 to 3 \"arguments\", or options; start, stop and step. "
   ]
  },
  {
   "cell_type": "code",
   "execution_count": null,
   "metadata": {
    "scrolled": true
   },
   "outputs": [],
   "source": [
    "# 1 value = range(stop)\n"
   ]
  },
  {
   "cell_type": "code",
   "execution_count": null,
   "metadata": {
    "scrolled": true
   },
   "outputs": [],
   "source": [
    "# if we look at this as a list we get:\n"
   ]
  },
  {
   "cell_type": "code",
   "execution_count": null,
   "metadata": {},
   "outputs": [],
   "source": [
    "# 2 values = range(start, stop)\n"
   ]
  },
  {
   "cell_type": "code",
   "execution_count": null,
   "metadata": {},
   "outputs": [],
   "source": [
    "#3 values = range(start, stop, step)\n"
   ]
  },
  {
   "cell_type": "markdown",
   "metadata": {},
   "source": [
    "Inside a for loop, the iterator produced by `range()` works in much the same way as a list does."
   ]
  },
  {
   "cell_type": "code",
   "execution_count": null,
   "metadata": {
    "scrolled": true
   },
   "outputs": [],
   "source": [
    "# now implement in for loop\n",
    "for i in range(5, 16, 2):\n",
    "    print (i)\n",
    "\n",
    "list(range(5, 16, 2))"
   ]
  },
  {
   "cell_type": "markdown",
   "metadata": {},
   "source": [
    "By combinging `range()` with our `len()` function, we've now got a convenient way to iterate over the length of our lists"
   ]
  },
  {
   "cell_type": "code",
   "execution_count": null,
   "metadata": {},
   "outputs": [],
   "source": [
    "# from 0 to 3 (non inclusive)\n",
    "odds = [1,3,5,7]\n",
    "\n",
    "for i in range(len(odds)):\n",
    "    print(\"index i =\",i)\n",
    "    print(\"odds at i =\",odds[i])"
   ]
  },
  {
   "cell_type": "code",
   "execution_count": null,
   "metadata": {},
   "outputs": [],
   "source": [
    "string = \"This. Is. Python!\"\n",
    "\n"
   ]
  },
  {
   "cell_type": "code",
   "execution_count": null,
   "metadata": {
    "collapsed": true
   },
   "outputs": [],
   "source": []
  },
  {
   "cell_type": "code",
   "execution_count": null,
   "metadata": {
    "collapsed": true
   },
   "outputs": [],
   "source": []
  },
  {
   "cell_type": "markdown",
   "metadata": {},
   "source": [
    "** Pro tip, Range is the simple and most elegant iterable operator, but there are a whole heap of premade iterators that can make your life easier check it out at:**\n",
    "\n",
    "https://docs.python.org/3.6/library/itertools.html"
   ]
  },
  {
   "cell_type": "markdown",
   "metadata": {},
   "source": [
    "#### Challenge\n",
    "\n",
    "In your groups (or individually), write a program which will find all such numbers which are divisible by 7 but are not a multiple of 5,\n",
    "between 2000 and 3200 (both included).\n",
    "The numbers obtained should be printed as a list.\n",
    "\n",
    "*Hint: This will require to you combine range with some modulo conditions.*"
   ]
  },
  {
   "cell_type": "code",
   "execution_count": null,
   "metadata": {
    "collapsed": true
   },
   "outputs": [],
   "source": []
  },
  {
   "cell_type": "code",
   "execution_count": null,
   "metadata": {
    "collapsed": true
   },
   "outputs": [],
   "source": []
  },
  {
   "cell_type": "code",
   "execution_count": null,
   "metadata": {},
   "outputs": [],
   "source": []
  },
  {
   "cell_type": "markdown",
   "metadata": {},
   "source": [
    "# While Loops\n",
    "\n",
    "The while statement allows you to repeatedly execute a block of statements as long as a condition is true. A while statement can have an optional else clause.\n",
    "\n"
   ]
  },
  {
   "cell_type": "code",
   "execution_count": null,
   "metadata": {},
   "outputs": [],
   "source": [
    "n = 0\n",
    "\n",
    "while n < 10:\n",
    "    print('n is less than ten')\n",
    "    n+=1 # The same as n = n+1\n"
   ]
  },
  {
   "cell_type": "markdown",
   "metadata": {},
   "source": [
    "While loops can be quite dangerous though - what happens if you choose a really bad stop condition?"
   ]
  },
  {
   "cell_type": "code",
   "execution_count": null,
   "metadata": {
    "scrolled": false
   },
   "outputs": [],
   "source": [
    "# Be prepared to press the stop button on this...\n",
    "\n",
    "var = True\n",
    "n = 0\n",
    "\n",
    "while var == True:\n",
    "    n += 1\n",
    "    print(n)"
   ]
  },
  {
   "cell_type": "markdown",
   "metadata": {
    "collapsed": true
   },
   "source": [
    "**While loops are great when you don't actually know beforehand how many times you want to repeat you block of code To that end we are going to do an interesting challenge**"
   ]
  },
  {
   "cell_type": "markdown",
   "metadata": {},
   "source": [
    "#### Challenge\n",
    "\n",
    "Using while loops, write a program to print the even numbers between 0 and n, where n is a randomly generated integer.\n",
    "\n",
    "Example:\n",
    "If n = 10\n",
    "\n",
    "Then, the output of the program should be:  \n",
    "`\n",
    "0  \n",
    "2  \n",
    "4  \n",
    "6  \n",
    "8  \n",
    "10\n",
    "`"
   ]
  },
  {
   "cell_type": "code",
   "execution_count": 6,
   "metadata": {},
   "outputs": [
    {
     "name": "stdout",
     "output_type": "stream",
     "text": [
      "190\n"
     ]
    }
   ],
   "source": [
    "from numpy import random\n",
    "\n",
    "num = random.randint(15,200)\n",
    "\n",
    "print(num)\n"
   ]
  },
  {
   "cell_type": "code",
   "execution_count": null,
   "metadata": {
    "collapsed": true
   },
   "outputs": [],
   "source": []
  },
  {
   "cell_type": "code",
   "execution_count": null,
   "metadata": {
    "collapsed": true
   },
   "outputs": [],
   "source": []
  },
  {
   "cell_type": "code",
   "execution_count": null,
   "metadata": {
    "collapsed": true
   },
   "outputs": [],
   "source": []
  },
  {
   "cell_type": "code",
   "execution_count": null,
   "metadata": {
    "collapsed": true
   },
   "outputs": [],
   "source": []
  },
  {
   "cell_type": "markdown",
   "metadata": {},
   "source": [
    "#### Challenge\n",
    "\n",
    "Write a `while` loop that takes a string, and produces a new string with the characters in reverse order, without using the `.reverse()` function:\n",
    "i.e. 'Newton' becomes 'notweN'."
   ]
  },
  {
   "cell_type": "code",
   "execution_count": null,
   "metadata": {
    "collapsed": true
   },
   "outputs": [],
   "source": [
    "#HINT\n",
    "word = \"\"\n",
    "\n",
    "word = \"a\" + word\n",
    "print(word)\n",
    "word = \"b\" + word\n",
    "print(word)"
   ]
  },
  {
   "cell_type": "code",
   "execution_count": null,
   "metadata": {
    "collapsed": true
   },
   "outputs": [],
   "source": [
    "word = \"Newton\"\n",
    "\n"
   ]
  },
  {
   "cell_type": "code",
   "execution_count": null,
   "metadata": {
    "collapsed": true
   },
   "outputs": [],
   "source": []
  }
 ],
 "metadata": {
  "kernelspec": {
   "display_name": "Python 3",
   "language": "python",
   "name": "python3"
  },
  "language_info": {
   "codemirror_mode": {
    "name": "ipython",
    "version": 3
   },
   "file_extension": ".py",
   "mimetype": "text/x-python",
   "name": "python",
   "nbconvert_exporter": "python",
   "pygments_lexer": "ipython3",
   "version": "3.6.1"
  },
  "toc": {
   "colors": {
    "hover_highlight": "#DAA520",
    "navigate_num": "#000000",
    "navigate_text": "#333333",
    "running_highlight": "#FF0000",
    "selected_highlight": "#FFD700",
    "sidebar_border": "#EEEEEE",
    "wrapper_background": "#FFFFFF"
   },
   "moveMenuLeft": true,
   "nav_menu": {
    "height": "246px",
    "width": "252px"
   },
   "navigate_menu": true,
   "number_sections": false,
   "sideBar": false,
   "threshold": 4,
   "toc_cell": false,
   "toc_position": {
    "height": "40px",
    "left": "780px",
    "right": "20px",
    "top": "72px",
    "width": "312px"
   },
   "toc_section_display": "none",
   "toc_window_display": true,
   "widenNotebook": false
  },
  "varInspector": {
   "cols": {
    "lenName": 16,
    "lenType": 16,
    "lenVar": 40
   },
   "kernels_config": {
    "python": {
     "delete_cmd_postfix": "",
     "delete_cmd_prefix": "del ",
     "library": "var_list.py",
     "varRefreshCmd": "print(var_dic_list())"
    },
    "r": {
     "delete_cmd_postfix": ") ",
     "delete_cmd_prefix": "rm(",
     "library": "var_list.r",
     "varRefreshCmd": "cat(var_dic_list()) "
    }
   },
   "types_to_exclude": [
    "module",
    "function",
    "builtin_function_or_method",
    "instance",
    "_Feature"
   ],
   "window_display": false
  }
 },
 "nbformat": 4,
 "nbformat_minor": 2
}
